{
  "nbformat": 4,
  "nbformat_minor": 0,
  "metadata": {
    "colab": {
      "provenance": []
    },
    "kernelspec": {
      "name": "python3",
      "display_name": "Python 3"
    },
    "language_info": {
      "name": "python"
    }
  },
  "cells": [
    {
      "cell_type": "markdown",
      "source": [
        "#**Market Analysis using ML**"
      ],
      "metadata": {
        "id": "n5byWZnIjsmR"
      }
    },
    {
      "cell_type": "markdown",
      "source": [
        "### **Porters weight determination using PCA**"
      ],
      "metadata": {
        "id": "2ejFrZegiLr3"
      }
    },
    {
      "cell_type": "code",
      "source": [
        "from sklearn.preprocessing import StandardScaler\n",
        "from sklearn.decomposition import PCA\n",
        "import pandas as pd\n",
        "import numpy as np\n",
        "\n",
        "data = pd.DataFrame({\n",
        "    'Rivalry': [4, 3, 5, 3],\n",
        "    'Substitution': [3, 4, 2, 4],\n",
        "    'Entrants': [3.5, 2, 4.5, 2],\n",
        "    'Customers': [3, 4, 3, 4],\n",
        "    'Suppliers': [2, 2, 2.5, 3.5],\n",
        "    'Distributor': [5, 5, 5, 4],\n",
        "    'Complement': [5, 5, 5, 4],\n",
        "    'Quality': [5, 5, 5, 4]\n",
        "}, index=['Green H2', 'Other H2', 'Other Renewable', 'Other Non-Renewable'])\n",
        "\n",
        "pca = PCA()\n",
        "pca.fit(data)\n",
        "\n",
        "explained_variance = pca.explained_variance_ratio_\n",
        "loadings = pca.components_\n",
        "explained_variance = explained_variance.reshape(-1, 1)\n",
        "\n",
        "weights = np.sum(np.abs(loadings) * explained_variance, axis=0)\n",
        "normalized_weights = weights / np.sum(weights)\n",
        "\n",
        "weights_df = pd.DataFrame({\n",
        "    'Factor': data.columns,\n",
        "    'Weight': normalized_weights\n",
        "})\n",
        "\n",
        "print(\"Relative Weights of Porter's Without an Outcome:\")\n",
        "print(weights_df)"
      ],
      "metadata": {
        "colab": {
          "base_uri": "https://localhost:8080/"
        },
        "id": "h9vSeIBsNQYu",
        "outputId": "e131fc27-0ad4-4bee-e119-f90de95b502b"
      },
      "execution_count": 2,
      "outputs": [
        {
          "output_type": "stream",
          "name": "stdout",
          "text": [
            "Relative Weights of Porter's Without an Outcome:\n",
            "         Factor    Weight\n",
            "0       Rivalry  0.168994\n",
            "1  Substitution  0.168994\n",
            "2      Entrants  0.213453\n",
            "3     Customers  0.093928\n",
            "4     Suppliers  0.100758\n",
            "5   Distributor  0.084625\n",
            "6    Complement  0.084625\n",
            "7       Quality  0.084625\n"
          ]
        }
      ]
    },
    {
      "cell_type": "markdown",
      "source": [
        "###**PESTELL weight determination using PCA**"
      ],
      "metadata": {
        "id": "SKqkV6stiUxn"
      }
    },
    {
      "cell_type": "code",
      "source": [
        "from sklearn.preprocessing import StandardScaler\n",
        "from sklearn.decomposition import PCA\n",
        "import pandas as pd\n",
        "import numpy as np\n",
        "\n",
        "data = pd.DataFrame({\n",
        "    'Political': [4, 4, 5, 3],\n",
        "    'Economic': [3.5, 4.5, 4, 5],\n",
        "    'Social': [4, 3.5, 5, 2],\n",
        "    'Technological': [5, 4, 5, 3.5],\n",
        "    'Environmental': [4, 3, 4, 2],\n",
        "    'Legal': [3, 4, 4, 5],\n",
        "    'Lobbying': [4.5, 4, 4, 5]\n",
        "}, index=['Green H2', 'Other H2', 'Other Renewable', 'Other Non-Renewable'])\n",
        "\n",
        "pca = PCA()\n",
        "pca.fit(data)\n",
        "\n",
        "explained_variance = pca.explained_variance_ratio_\n",
        "loadings = pca.components_\n",
        "explained_variance = explained_variance.reshape(-1, 1)\n",
        "\n",
        "weights = np.sum(np.abs(loadings) * explained_variance, axis=0)\n",
        "normalized_weights = weights / np.sum(weights)\n",
        "\n",
        "weights_df = pd.DataFrame({\n",
        "    'Factor': data.columns,\n",
        "    'Weight': normalized_weights\n",
        "})\n",
        "\n",
        "print(\"Relative Weights of PESTEL Factors Without an Outcome:\")\n",
        "print(weights_df)"
      ],
      "metadata": {
        "colab": {
          "base_uri": "https://localhost:8080/"
        },
        "id": "i9sxopLAr1qW",
        "outputId": "f1c317b0-6003-4883-eac1-706e37edb544"
      },
      "execution_count": 3,
      "outputs": [
        {
          "output_type": "stream",
          "name": "stdout",
          "text": [
            "Relative Weights of PESTEL Factors Without an Outcome:\n",
            "          Factor    Weight\n",
            "0      Political  0.144713\n",
            "1       Economic  0.114818\n",
            "2         Social  0.221090\n",
            "3  Technological  0.132585\n",
            "4  Environmental  0.167103\n",
            "5          Legal  0.141538\n",
            "6       Lobbying  0.078153\n"
          ]
        }
      ]
    },
    {
      "cell_type": "markdown",
      "source": [
        "###**Using Gradient Boosting Regression (GBR) in non-linear relationship between features and the target variable.**"
      ],
      "metadata": {
        "id": "jzb6_G2MiYD8"
      }
    },
    {
      "cell_type": "code",
      "source": [
        "from sklearn.ensemble import GradientBoostingRegressor\n",
        "from sklearn.model_selection import train_test_split\n",
        "import pandas as pd\n",
        "import numpy as np\n",
        "\n",
        "data = pd.DataFrame({\n",
        "    'CO2': [3, 2, 3.5, 1],\n",
        "    'GPS': [4, 4, 5, 3],\n",
        "    'GS': [4, 3.5, 5, 2],\n",
        "    'TAX': [3, 2.5, 3, 1.5],\n",
        "    'ICE': [1.5, 2, 1.5, 3],\n",
        "    'CMS': [2.5, 2.5, 3.5, 4],\n",
        "    'Substitution': [3, 4, 2, 4],\n",
        "    'Objective': [5, 2.5, 5, 1]\n",
        "})\n",
        "\n",
        "X = data[['CO2', 'GPS', 'GS', 'TAX','ICE','CMS','Substitution']]\n",
        "y = data['Objective']\n",
        "\n",
        "\n",
        "X_train, X_test, y_train, y_test = train_test_split(X, y, test_size=0.2, random_state=42)\n",
        "model = GradientBoostingRegressor(random_state=42)\n",
        "model.fit(X_train, y_train)\n",
        "\n",
        "\n",
        "importances = model.feature_importances_\n",
        "weights = importances / np.sum(importances)\n",
        "weights /= np.sum(weights)\n",
        "\n",
        "print(f\"Weights of Factors: {weights}\")"
      ],
      "metadata": {
        "colab": {
          "base_uri": "https://localhost:8080/"
        },
        "id": "EM2oWh-lkCza",
        "outputId": "02d8b348-2bc0-4d98-8285-c18c26012acf"
      },
      "execution_count": 4,
      "outputs": [
        {
          "output_type": "stream",
          "name": "stdout",
          "text": [
            "Weights of Factors: [0.24604599 0.03564915 0.10671402 0.27602695 0.1027661  0.02852635\n",
            " 0.20427145]\n"
          ]
        }
      ]
    },
    {
      "cell_type": "code",
      "source": [
        "from sklearn.inspection import permutation_importance\n",
        "\n",
        "result = permutation_importance(model, X_train, y_train, n_repeats=10, random_state=42)\n",
        "\n",
        "importances_mean = result.importances_mean\n",
        "importances_std = result.importances_std\n",
        "\n",
        "for i, feature in enumerate(X.columns):\n",
        "    print(f\"Sensitivity (Permutation Importance) of {feature}: {importances_mean[i]:.4f} ± {importances_std[i]:.4f}\")"
      ],
      "metadata": {
        "colab": {
          "base_uri": "https://localhost:8080/"
        },
        "id": "3ifJ_NxAX1rX",
        "outputId": "634f17a5-99be-4a0b-9031-54c89633a835"
      },
      "execution_count": 5,
      "outputs": [
        {
          "output_type": "stream",
          "name": "stdout",
          "text": [
            "Sensitivity (Permutation Importance) of CO2: 0.0769 ± 0.0628\n",
            "Sensitivity (Permutation Importance) of GPS: 0.0144 ± 0.0118\n",
            "Sensitivity (Permutation Importance) of GS: 0.0476 ± 0.0388\n",
            "Sensitivity (Permutation Importance) of TAX: 0.0900 ± 0.0735\n",
            "Sensitivity (Permutation Importance) of ICE: 0.0158 ± 0.0129\n",
            "Sensitivity (Permutation Importance) of CMS: 0.0129 ± 0.0105\n",
            "Sensitivity (Permutation Importance) of Substitution: 0.0349 ± 0.0285\n"
          ]
        }
      ]
    },
    {
      "cell_type": "markdown",
      "source": [
        "###**K-Means Clustering to determine strategic grouping**"
      ],
      "metadata": {
        "id": "oOoo0bJdjQMH"
      }
    },
    {
      "cell_type": "code",
      "source": [
        "import numpy as np\n",
        "import matplotlib.pyplot as plt\n",
        "from sklearn.cluster import KMeans\n",
        "\n",
        "\n",
        "feature_labels = [\n",
        "    \"CO2 Emissions\", \"Global Sentiment\"\n",
        "]\n",
        "energy_types = [\n",
        "    \"Green Hydrogen\", \"Blue Hydrogen\", \"Grey Hydrogen\",\n",
        "    \"Solar Energy\", \"Wind Energy\", \"Oil\", \"Natural Gas\"\n",
        "]\n",
        "\n",
        "data = np.array([\n",
        "    [1, 4],   # Green Hydrogen\n",
        "    [2, 3.5],  # Blue Hydrogen\n",
        "    [10, 3.5],  # Grey Hydrogen\n",
        "    [1, 4.5],  # Solar Energy\n",
        "    [0.8, 5],  # Wind Energy\n",
        "    [15, 2],    # Oil\n",
        "    [12, 3]     # Natural Gas\n",
        "])\n",
        "\n",
        "x_min= data[:, 0].min()\n",
        "x_max= data[:, 0].max()\n",
        "data[:, 0] = (data[:, 0] - x_min) / (x_max - x_min)\n",
        "\n",
        "k = 3\n",
        "kmeans = KMeans(n_clusters=k, random_state= 42)\n",
        "kmeans.fit(data)\n",
        "clusters = kmeans.labels_\n",
        "\n",
        "x_feature = 0\n",
        "y_feature = 1\n",
        "\n",
        "\n",
        "plt.figure(figsize=(10, 7))\n",
        "plt.style.use('dark_background')\n",
        "scatter = plt.scatter(data[:, x_feature], data[:, y_feature], c=clusters, cmap='plasma', s=100, alpha=0.7, edgecolor='w')\n",
        "\n",
        "for i, energy_type in enumerate(energy_types):\n",
        "    if energy_type == \"Wind Energy\":\n",
        "        plt.text(data[i, x_feature], data[i, y_feature] - 0.15, energy_type, fontsize=9, ha='left')\n",
        "    elif energy_type == \"Solar Energy\":\n",
        "        plt.text(data[i, x_feature]+0.015, data[i, y_feature] + 0.05, energy_type, fontsize=9, ha='left')\n",
        "    elif energy_type == \"Grey Hydrogen\":\n",
        "        plt.text(data[i, x_feature], data[i, y_feature] + 0.1, energy_type, fontsize=9, ha='center')\n",
        "    elif energy_type == \"Oil\":\n",
        "        plt.text(data[i, x_feature]-0.015 , data[i, y_feature] + 0.05, energy_type, fontsize=9, ha='right')\n",
        "    else:\n",
        "        plt.text(data[i, x_feature]+0.015 , data[i, y_feature] + 0.05, energy_type, fontsize=9)\n",
        "\n",
        "plt.title(\"K-Means Clustering of Energy Types (k=3) based on CO2 Emissions & Global Sentiment\")\n",
        "plt.xlabel(\"Normalised CO2 Emissions (Lower is Better for Sustainability)\")\n",
        "plt.ylabel(\"Global Sentiment (Higher is Better for Market Perception)\", color= 'white')\n",
        "plt.grid(False)\n",
        "plt.colorbar(scatter, label='Cluster')\n",
        "\n",
        "plt.show()\n",
        "\n"
      ],
      "metadata": {
        "colab": {
          "base_uri": "https://localhost:8080/",
          "height": 641
        },
        "id": "m3GEUlCDnkMM",
        "outputId": "91fdcfde-04f7-46cc-d7c2-1fa79cb7077d"
      },
      "execution_count": 6,
      "outputs": [
        {
          "output_type": "display_data",
          "data": {
            "text/plain": [
              "<Figure size 1000x700 with 2 Axes>"
            ],
            "image/png": "[encoded data removed]"
          },
          "metadata": {}
        }
      ]
    },
    {
      "cell_type": "code",
      "source": [
        "import matplotlib.pyplot as plt\n",
        "from sklearn.cluster import KMeans\n",
        "\n",
        "inertia = []\n",
        "K = range(1, len(data) + 1)  # K should be in the range [1, number of samples]\n",
        "for k in K:\n",
        "    kmeans = KMeans(n_clusters=k, random_state=42)\n",
        "    kmeans.fit(data)\n",
        "    inertia.append(kmeans.inertia_)\n",
        "\n",
        "plt.figure(figsize=(8, 5))\n",
        "plt.plot(K, inertia, marker='o')\n",
        "plt.title('Elbow Method For Optimal k')\n",
        "plt.xlabel('Number of clusters')\n",
        "plt.ylabel('Inertia')\n",
        "plt.show()"
      ],
      "metadata": {
        "colab": {
          "base_uri": "https://localhost:8080/",
          "height": 487
        },
        "id": "Gjnpj7kYdBi5",
        "outputId": "03559e7d-83b7-43da-c1b9-f64aa515058b"
      },
      "execution_count": 8,
      "outputs": [
        {
          "output_type": "display_data",
          "data": {
            "text/plain": [
              "<Figure size 800x500 with 1 Axes>"
            ],
            "image/png": "[encoded data removed]"
          },
          "metadata": {}
        }
      ]
    }
  ]
}